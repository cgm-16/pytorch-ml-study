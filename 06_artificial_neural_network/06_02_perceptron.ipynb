{
 "cells": [
  {
   "cell_type": "markdown",
   "id": "3fde47d0",
   "metadata": {},
   "source": [
    "# 퍼셉트론"
   ]
  },
  {
   "cell_type": "markdown",
   "id": "ae584b57",
   "metadata": {},
   "source": [
    "## 1. 퍼셉트론\n",
    "- 프랑크 로젠블라트가 1957년에 제안한 초기 형태의 인공 신경망\n",
    "- 신경 세포 뉴런의 동작과 유사\n",
    "\n",
    "![](https://wikidocs.net/images/page/24958/perceptrin1_final.PNG)\n",
    "\n",
    "- $x$는 입력값, $W$는 가중치, $y$는 출력값\n",
    "- 입력값과 가중치의 곱의 전체 합이 임계치를 넘으면 인공 뉴런은 출력 신호로서 1을 출력, 아니면 0을 출력 - 계단 함수\n",
    "- 계단 함수의 임계치값은 보통 $\\theta$로 표현\n",
    "$$\\displaystyle if \\sum_{i}^{n} W_ix_i \\geq \\theta \\to y = 1$$\n",
    "$$\\displaystyle if \\sum_{i}^{n} W_ix_i \\lt \\theta \\to y = 0$$\n",
    "\n",
    "- 임계치를 좌변으로 넘기고 편향 $b$로 표현할 수도 있음\n",
    "\n",
    "![](https://wikidocs.net/images/page/24958/perceptron2_final.PNG)\n",
    "$$\\displaystyle if \\sum_{i}^{n} W_ix_i + b \\geq 0 \\to y = 1$$\n",
    "$$\\displaystyle if \\sum_{i}^{n} W_ix_i + b \\lt 0 \\to y = 0$$\n",
    "\n",
    "- 편향 $b$역시 최적화 값을 찾아야 할 변수 중 하나\n",
    "- 뉴련에서 출력값을 변경시키는 함수를 활성화 함수라고 함\n",
    "- 초기 퍼셉트론은 계단 함수를 사용\n",
    "- 이후 신경망들은 다양한 활서오하 함수를 사용함\n",
    "- 로지스틱 회귀와 퍼셉트론은 활성화 함수의 차이밖에 없다"
   ]
  },
  {
   "cell_type": "markdown",
   "id": "30e447ff",
   "metadata": {},
   "source": [
    "## 2. 단층 퍼셉트론\n",
    "- 단층 퍼셉트론은 값을 보내는 단계와 값을 받아서 출력하는 두 단계로만 이루어짐\n",
    "- 각 단계를 층이라 부름, 두개의 층을 입력층과 출력층이라고 함\n",
    "\n",
    "#### AND 게이트의 예시"
   ]
  },
  {
   "cell_type": "code",
   "execution_count": 1,
   "id": "db432fd4",
   "metadata": {},
   "outputs": [],
   "source": [
    "def AND_gate(x1, x2):\n",
    "    w1=0.5\n",
    "    w2=0.5\n",
    "    b=-0.7\n",
    "    result = x1*w1 + x2*w2 + b\n",
    "    if result <= 0:\n",
    "        return 0\n",
    "    else:\n",
    "        return 1"
   ]
  },
  {
   "cell_type": "code",
   "execution_count": 2,
   "id": "b1a9c8c7",
   "metadata": {},
   "outputs": [
    {
     "data": {
      "text/plain": [
       "(0, 0, 0, 1)"
      ]
     },
     "execution_count": 2,
     "metadata": {},
     "output_type": "execute_result"
    }
   ],
   "source": [
    "AND_gate(0, 0), AND_gate(0, 1), AND_gate(1, 0), AND_gate(1, 1)"
   ]
  },
  {
   "cell_type": "markdown",
   "id": "9ef3c431",
   "metadata": {},
   "source": [
    "#### NAND 게이트의 예시"
   ]
  },
  {
   "cell_type": "code",
   "execution_count": 3,
   "id": "1c35392e",
   "metadata": {},
   "outputs": [],
   "source": [
    "def NAND_gate(x1, x2):\n",
    "    w1=-0.5\n",
    "    w2=-0.5\n",
    "    b=0.7\n",
    "    result = x1*w1 + x2*w2 + b\n",
    "    if result <= 0:\n",
    "        return 0\n",
    "    else:\n",
    "        return 1"
   ]
  },
  {
   "cell_type": "code",
   "execution_count": 4,
   "id": "817c31fe",
   "metadata": {},
   "outputs": [
    {
     "data": {
      "text/plain": [
       "(1, 1, 1, 0)"
      ]
     },
     "execution_count": 4,
     "metadata": {},
     "output_type": "execute_result"
    }
   ],
   "source": [
    "NAND_gate(0, 0), NAND_gate(0, 1), NAND_gate(1, 0), NAND_gate(1, 1)"
   ]
  },
  {
   "cell_type": "markdown",
   "id": "e764ee25",
   "metadata": {},
   "source": [
    "#### OR 게이트의 예시"
   ]
  },
  {
   "cell_type": "code",
   "execution_count": 5,
   "id": "ba06fb87",
   "metadata": {},
   "outputs": [],
   "source": [
    "def OR_gate(x1, x2):\n",
    "    w1=0.6\n",
    "    w2=0.6\n",
    "    b=-0.5\n",
    "    result = x1*w1 + x2*w2 + b\n",
    "    if result <= 0:\n",
    "        return 0\n",
    "    else:\n",
    "        return 1"
   ]
  },
  {
   "cell_type": "code",
   "execution_count": 6,
   "id": "3dbb0152",
   "metadata": {},
   "outputs": [
    {
     "data": {
      "text/plain": [
       "(0, 1, 1, 1)"
      ]
     },
     "execution_count": 6,
     "metadata": {},
     "output_type": "execute_result"
    }
   ],
   "source": [
    "OR_gate(0, 0), OR_gate(0, 1), OR_gate(1, 0), OR_gate(1, 1)"
   ]
  },
  {
   "cell_type": "markdown",
   "id": "d875b8de",
   "metadata": {},
   "source": [
    "- 하지만 단층 퍼셉트론으로는 XOR 게이트를 구현 못함 -> 단측 퍼셉트론은 직선 하나로 두 영역을 나눌 수 있는 문제에서만 구현이 가능"
   ]
  },
  {
   "cell_type": "markdown",
   "id": "e2727865",
   "metadata": {},
   "source": [
    "## 3. 다층 퍼셉트론\n",
    "- XOR 게이트는 층을 더 쌓으면 가능\n",
    "- 입력층과 출력층 사이의 층은 은닉층이라고 부름"
   ]
  },
  {
   "cell_type": "code",
   "execution_count": 7,
   "id": "2e327258",
   "metadata": {},
   "outputs": [],
   "source": [
    "def XOR_gate(x1, x2):\n",
    "    s1 = NAND_gate(x1, x2)\n",
    "    s2 = OR_gate(x1, x2)\n",
    "    result = AND_gate(s1, s2)\n",
    "    return result"
   ]
  },
  {
   "cell_type": "code",
   "execution_count": 8,
   "id": "193900d4",
   "metadata": {},
   "outputs": [
    {
     "data": {
      "text/plain": [
       "(0, 1, 1, 0)"
      ]
     },
     "execution_count": 8,
     "metadata": {},
     "output_type": "execute_result"
    }
   ],
   "source": [
    "XOR_gate(0, 0), XOR_gate(0, 1), XOR_gate(1, 0), XOR_gate(1, 1)"
   ]
  },
  {
   "cell_type": "markdown",
   "id": "9f12d8ff",
   "metadata": {},
   "source": [
    "- 은닉층이 2개 이상인 신경망을 심층 신경망(DNN)이라고 함\n",
    "- 심층 신경망을 학습 시키는 것이 딥 러닝"
   ]
  }
 ],
 "metadata": {
  "kernelspec": {
   "display_name": ".venv",
   "language": "python",
   "name": "python3"
  },
  "language_info": {
   "codemirror_mode": {
    "name": "ipython",
    "version": 3
   },
   "file_extension": ".py",
   "mimetype": "text/x-python",
   "name": "python",
   "nbconvert_exporter": "python",
   "pygments_lexer": "ipython3",
   "version": "3.12.5"
  }
 },
 "nbformat": 4,
 "nbformat_minor": 5
}
