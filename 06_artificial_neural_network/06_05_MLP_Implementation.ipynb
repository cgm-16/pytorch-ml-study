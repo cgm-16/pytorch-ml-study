{
 "cells": [
  {
   "cell_type": "markdown",
   "id": "d12b6cab",
   "metadata": {},
   "source": [
    "## 06-05 다층 퍼셉트론으로 손글씨 분류하기\n",
    "### 1. 숫자 필기 데이터 소개\n",
    "- 사이킷런 패키지에서 제공하는 분류용 예제 데이터"
   ]
  },
  {
   "cell_type": "code",
   "execution_count": 1,
   "id": "9df31572",
   "metadata": {},
   "outputs": [],
   "source": [
    "%matplotlib inline\n",
    "import matplotlib.pyplot as plt # 시각화를 위한 맷플롯립\n",
    "from sklearn.datasets import load_digits\n",
    "digits = load_digits() # 1,979개의 이미지 데이터 로드"
   ]
  },
  {
   "cell_type": "code",
   "execution_count": 2,
   "id": "8ca0b0bf",
   "metadata": {},
   "outputs": [
    {
     "name": "stdout",
     "output_type": "stream",
     "text": [
      "[[ 0.  0.  5. 13.  9.  1.  0.  0.]\n",
      " [ 0.  0. 13. 15. 10. 15.  5.  0.]\n",
      " [ 0.  3. 15.  2.  0. 11.  8.  0.]\n",
      " [ 0.  4. 12.  0.  0.  8.  8.  0.]\n",
      " [ 0.  5.  8.  0.  0.  9.  8.  0.]\n",
      " [ 0.  4. 11.  0.  1. 12.  7.  0.]\n",
      " [ 0.  2. 14.  5. 10. 12.  0.  0.]\n",
      " [ 0.  0.  6. 13. 10.  0.  0.  0.]]\n"
     ]
    }
   ],
   "source": [
    "print(digits.images[0])"
   ]
  },
  {
   "cell_type": "code",
   "execution_count": 3,
   "id": "5e4f9cb1",
   "metadata": {},
   "outputs": [
    {
     "name": "stdout",
     "output_type": "stream",
     "text": [
      "0\n"
     ]
    }
   ],
   "source": [
    "print(digits.target[0])"
   ]
  },
  {
   "cell_type": "code",
   "execution_count": 4,
   "id": "a8ec3a61",
   "metadata": {},
   "outputs": [
    {
     "name": "stdout",
     "output_type": "stream",
     "text": [
      "전체 샘플의 수 : 1797\n"
     ]
    }
   ],
   "source": [
    "print('전체 샘플의 수 : {}'.format(len(digits.images)))"
   ]
  },
  {
   "cell_type": "code",
   "execution_count": 5,
   "id": "dca71b0a",
   "metadata": {},
   "outputs": [
    {
     "data": {
      "image/png": "[encoded data removed]",
      "text/plain": [
       "<Figure size 640x480 with 5 Axes>"
      ]
     },
     "metadata": {},
     "output_type": "display_data"
    }
   ],
   "source": [
    "images_and_labels = list(zip(digits.images, digits.target))\n",
    "for index, (image, label) in enumerate(images_and_labels[:5]): # 5개의 샘플만 출력\n",
    "    plt.subplot(2, 5, index + 1)\n",
    "    plt.axis('off')\n",
    "    plt.imshow(image, cmap=plt.cm.gray_r, interpolation='nearest')\n",
    "    plt.title('sample: %i' % label)"
   ]
  },
  {
   "cell_type": "code",
   "execution_count": 6,
   "id": "abce8c8c",
   "metadata": {},
   "outputs": [
    {
     "name": "stdout",
     "output_type": "stream",
     "text": [
      "0 번 인덱스 샘플의 레이블 :  0\n",
      "1 번 인덱스 샘플의 레이블 :  1\n",
      "2 번 인덱스 샘플의 레이블 :  2\n",
      "3 번 인덱스 샘플의 레이블 :  3\n",
      "4 번 인덱스 샘플의 레이블 :  4\n"
     ]
    }
   ],
   "source": [
    "for i in range(5):\n",
    "  print(i,'번 인덱스 샘플의 레이블 : ',digits.target[i])"
   ]
  },
  {
   "cell_type": "code",
   "execution_count": 7,
   "id": "f6269d14",
   "metadata": {},
   "outputs": [
    {
     "name": "stdout",
     "output_type": "stream",
     "text": [
      "[ 0.  0.  5. 13.  9.  1.  0.  0.  0.  0. 13. 15. 10. 15.  5.  0.  0.  3.\n",
      " 15.  2.  0. 11.  8.  0.  0.  4. 12.  0.  0.  8.  8.  0.  0.  5.  8.  0.\n",
      "  0.  9.  8.  0.  0.  4. 11.  0.  1. 12.  7.  0.  0.  2. 14.  5. 10. 12.\n",
      "  0.  0.  0.  0.  6. 13. 10.  0.  0.  0.]\n"
     ]
    }
   ],
   "source": [
    "print(digits.data[0])"
   ]
  },
  {
   "cell_type": "code",
   "execution_count": 8,
   "id": "9368417c",
   "metadata": {},
   "outputs": [],
   "source": [
    "X = digits.data # 이미지. 즉, 특성 행렬\n",
    "Y = digits.target # 각 이미지에 대한 레이블"
   ]
  },
  {
   "cell_type": "markdown",
   "id": "5bf6e763",
   "metadata": {},
   "source": [
    "### 2. 다층 퍼셉트론 분류기 만들기"
   ]
  },
  {
   "cell_type": "code",
   "execution_count": 9,
   "id": "97c067db",
   "metadata": {},
   "outputs": [],
   "source": [
    "import torch\n",
    "import torch.nn as nn\n",
    "from torch import optim"
   ]
  },
  {
   "cell_type": "code",
   "execution_count": 10,
   "id": "28fb3f66",
   "metadata": {},
   "outputs": [],
   "source": [
    "# 모델 정의: 순차적인 레이어 구조\n",
    "model = nn.Sequential(\n",
    "    nn.Linear(64, 32), # 입력층: 64, 첫 번째 은닉층: 32\n",
    "    nn.ReLU(),         # 활성화 함수: ReLU\n",
    "    nn.Linear(32, 16), # 첫 번째 은닉층: 32, 두 번째 은닉층: 16\n",
    "    nn.ReLU(),         # 활성화 함수: ReLU\n",
    "    nn.Linear(16, 10)  # 두 번째 은닉층: 16, 출력층: 10 (클래스의 개수)\n",
    ")"
   ]
  },
  {
   "cell_type": "markdown",
   "id": "446949a2",
   "metadata": {},
   "source": [
    "### 레이어 설명\n",
    "- 첫 번째 레이어: 입력층이자 첫번쩨 은닉층, 입력 데이터의 특성 수가 64개인 경우를 가정함. 입력 데이터를 받아서 32개의 출력 생성\n",
    "- 첫 번째 활성화 함수: 첫 번째 은닉층의 출력을 비선형적으로 변환하기 위해 ReLU 활성화 함수가 적용\n",
    "- 두 번째 레이어: 두 번째 은닉층, 이전 레이어의 출력을 받아 16개의 출력으로 변환\n",
    "- 두 번째 활성화 함수: 두 번째 은닉층의 출력에 대해서도 ReLU 적용\n",
    "- 세 번째 레이어: 세번째 은닉층이자 출력층, 이전 레이어의 출력을 받아 최종적으로 10개의 클래스로 출력"
   ]
  },
  {
   "cell_type": "code",
   "execution_count": 11,
   "id": "269858ce",
   "metadata": {},
   "outputs": [],
   "source": [
    "# 모델 정의: 순차적인 레이어 구조\n",
    "model = nn.Sequential(\n",
    "    nn.Linear(64, 32), # 입력층: 64, 첫 번째 은닉층: 32\n",
    "    nn.ReLU(),         # 활성화 함수: ReLU\n",
    "    nn.Linear(32, 16), # 첫 번째 은닉층: 32, 두 번째 은닉층: 16\n",
    "    nn.ReLU(),         # 활성화 함수: ReLU\n",
    "    nn.Linear(16, 10)  # 두 번째 은닉층: 16, 출력층: 10 (클래스의 개수)\n",
    ")"
   ]
  },
  {
   "cell_type": "code",
   "execution_count": 12,
   "id": "aeea86e3",
   "metadata": {},
   "outputs": [
    {
     "name": "stdout",
     "output_type": "stream",
     "text": [
      "Epoch    0/100 Cost: 2.362078\n",
      "Epoch   10/100 Cost: 1.972216\n",
      "Epoch   20/100 Cost: 1.648811\n",
      "Epoch   30/100 Cost: 1.316571\n",
      "Epoch   40/100 Cost: 0.991094\n",
      "Epoch   50/100 Cost: 0.708246\n",
      "Epoch   60/100 Cost: 0.507593\n",
      "Epoch   70/100 Cost: 0.381730\n",
      "Epoch   80/100 Cost: 0.299833\n",
      "Epoch   90/100 Cost: 0.243508\n"
     ]
    }
   ],
   "source": [
    "# 입력 데이터 X와 레이블 Y를 텐서로 변환\n",
    "X = torch.tensor(X, dtype=torch.float32)\n",
    "Y = torch.tensor(Y, dtype=torch.int64)\n",
    "loss_fn = nn.CrossEntropyLoss() # 이 비용 함수는 소프트맥스 함수를 포함하고 있음.\n",
    "optimizer = optim.Adam(model.parameters())\n",
    "losses = []\n",
    "\n",
    "# 총 100번의 에포크 동안 모델 학습\n",
    "for epoch in range(100):\n",
    "  optimizer.zero_grad()      # 옵티마이저의 기울기 초기화\n",
    "  y_pred = model(X)          # 순전파 연산으로 예측값 계산\n",
    "  loss = loss_fn(y_pred, Y)  # 손실 함수로 비용 계산\n",
    "  loss.backward()            # 역전파 연산으로 기울기 계산\n",
    "  optimizer.step()           # 옵티마이저를 통해 파라미터 업데이트\n",
    "\n",
    "  # 10번째 에포크마다 현재 에포크와 손실 값 출력\n",
    "  if epoch % 10 == 0:\n",
    "    print('Epoch {:4d}/{} Cost: {:.6f}'.format(\n",
    "            epoch, 100, loss.item()\n",
    "        ))\n",
    "\n",
    "  # 손실 값을 리스트에 추가하여 추적\n",
    "  losses.append(loss.item())"
   ]
  },
  {
   "cell_type": "code",
   "execution_count": 13,
   "id": "c78a54cf",
   "metadata": {},
   "outputs": [
    {
     "data": {
      "text/plain": [
       "[<matplotlib.lines.Line2D at 0x1db662099a0>]"
      ]
     },
     "execution_count": 13,
     "metadata": {},
     "output_type": "execute_result"
    },
    {
     "data": {
      "image/png": "[encoded data removed]",
      "text/plain": [
       "<Figure size 640x480 with 1 Axes>"
      ]
     },
     "metadata": {},
     "output_type": "display_data"
    }
   ],
   "source": [
    "plt.plot(losses)"
   ]
  }
 ],
 "metadata": {
  "kernelspec": {
   "display_name": ".venv",
   "language": "python",
   "name": "python3"
  },
  "language_info": {
   "codemirror_mode": {
    "name": "ipython",
    "version": 3
   },
   "file_extension": ".py",
   "mimetype": "text/x-python",
   "name": "python",
   "nbconvert_exporter": "python",
   "pygments_lexer": "ipython3",
   "version": "3.12.5"
  }
 },
 "nbformat": 4,
 "nbformat_minor": 5
}
